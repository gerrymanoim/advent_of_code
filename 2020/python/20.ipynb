{
 "cells": [
  {
   "cell_type": "code",
   "execution_count": 3,
   "metadata": {},
   "outputs": [],
   "source": [
    "%load_ext autoreload\n",
    "%autoreload 2\n",
    "from typing import *"
   ]
  },
  {
   "cell_type": "code",
   "execution_count": 4,
   "metadata": {},
   "outputs": [],
   "source": [
    "from utils import load_input"
   ]
  },
  {
   "cell_type": "markdown",
   "metadata": {},
   "source": [
    "# Part 1\n",
    "\n",
    "The high-speed train leaves the forest and quickly carries you south. You can even see a desert in the distance! Since you have some spare time, you might as well see if there was anything interesting in the image the Mythical Information Bureau satellite captured.\n",
    "\n",
    "After decoding the satellite messages, you discover that the data actually contains many small images created by the satellite's camera array. The camera array consists of many cameras; rather than produce a single square image, they produce many smaller square image tiles that need to be reassembled back into a single image.\n",
    "\n",
    "Each camera in the camera array returns a single monochrome image tile with a random unique ID number. The tiles (your puzzle input) arrived in a random order.\n",
    "\n",
    "Worse yet, the camera array appears to be malfunctioning: each image tile has been rotated and flipped to a random orientation. Your first task is to reassemble the original image by orienting the tiles so they fit together.\n",
    "\n",
    "To show how the tiles should be reassembled, each tile's image data includes a border that should line up exactly with its adjacent tiles. All tiles have this border, and the border lines up exactly when the tiles are both oriented correctly. Tiles at the edge of the image also have this border, but the outermost edges won't line up with any other tiles.\n",
    "\n",
    "By rotating, flipping, and rearranging them, you can find a square arrangement that causes all adjacent borders to line up:\n",
    "\n",
    "To check that you've assembled the image correctly, multiply the IDs of the four corner tiles together. If you do this with the assembled tiles from the example above, you get 1951 * 3079 * 2971 * 1171 = 20899048083289.\n",
    "\n",
    "Assemble the tiles into an image. What do you get if you multiply together the IDs of the four corner tiles?\n",
    "\n"
   ]
  },
  {
   "cell_type": "code",
   "execution_count": 5,
   "metadata": {},
   "outputs": [],
   "source": [
    "raw_data = load_input(20, splitlines=False)"
   ]
  },
  {
   "cell_type": "code",
   "execution_count": 6,
   "metadata": {},
   "outputs": [],
   "source": [
    "raw_tiles = raw_data.strip().split(\"\\n\\n\")"
   ]
  },
  {
   "cell_type": "code",
   "execution_count": 77,
   "metadata": {},
   "outputs": [],
   "source": [
    "from __future__ import annotations\n",
    "from functools import cached_property\n",
    "\n",
    "class Tile:\n",
    "    def __init__(self, tile_id: int, grid: List[List[str]]):\n",
    "        self.tile_id = tile_id\n",
    "        self.grid = grid\n",
    "        self.neighbors = dict()\n",
    "\n",
    "    def rotate(self):\n",
    "        self.grid = list(zip(*reversed(self.grid)))\n",
    "    \n",
    "    @cached_property\n",
    "    def sides(self):\n",
    "        out = set()\n",
    "        for _ in range(4):\n",
    "            out.add(tuple(self.grid[0]))\n",
    "            out.add(tuple(reversed(self.grid[0]))) # must consider flipped\n",
    "            self.rotate()\n",
    "        return out\n",
    "        \n",
    "    @classmethod\n",
    "    def from_raw(cls, s: str) -> Tile:\n",
    "        header, tail = s.split(\"\\n\", 1)\n",
    "        tile_id = int(header[5:9])\n",
    "        grid = [list(row) for row in tail.splitlines()]\n",
    "        return cls(tile_id, grid)\n",
    "        "
   ]
  },
  {
   "cell_type": "code",
   "execution_count": 78,
   "metadata": {},
   "outputs": [],
   "source": [
    "tiles = [Tile.from_raw(tile) for tile in raw_tiles]"
   ]
  },
  {
   "cell_type": "code",
   "execution_count": 79,
   "metadata": {},
   "outputs": [],
   "source": [
    "tile_id_to_tile = {tile.tile_id:tile for tile in tiles}"
   ]
  },
  {
   "cell_type": "code",
   "execution_count": 80,
   "metadata": {},
   "outputs": [
    {
     "data": {
      "text/plain": [
       "144"
      ]
     },
     "execution_count": 80,
     "metadata": {},
     "output_type": "execute_result"
    }
   ],
   "source": [
    "len(tiles)"
   ]
  },
  {
   "cell_type": "code",
   "execution_count": 81,
   "metadata": {},
   "outputs": [],
   "source": [
    "from itertools import combinations"
   ]
  },
  {
   "cell_type": "code",
   "execution_count": 82,
   "metadata": {},
   "outputs": [],
   "source": [
    "for left, right in combinations(tiles, 2):\n",
    "    common_sides = left.sides & right.sides\n",
    "    for side in common_sides:\n",
    "        left.neighbors[side] = right.tile_id\n",
    "        right.neighbors[side] = left.tile_id"
   ]
  },
  {
   "cell_type": "code",
   "execution_count": 61,
   "metadata": {},
   "outputs": [
    {
     "data": {
      "text/plain": [
       "{('.', '#', '#', '.', '.', '#', '.', '#', '.', '#'): 2239,\n",
       " ('.', '#', '.', '.', '.', '#', '.', '.', '#', '.'): 1621,\n",
       " ('#', '#', '.', '.', '.', '#', '.', '.', '.', '.'): 1997,\n",
       " ('#', '#', '#', '#', '.', '#', '.', '#', '#', '#'): 3701}"
      ]
     },
     "execution_count": 61,
     "metadata": {},
     "output_type": "execute_result"
    }
   ],
   "source": [
    "tiles[0].neighbors"
   ]
  },
  {
   "cell_type": "code",
   "execution_count": 96,
   "metadata": {},
   "outputs": [
    {
     "data": {
      "text/plain": [
       "140656720229539"
      ]
     },
     "execution_count": 96,
     "metadata": {},
     "output_type": "execute_result"
    }
   ],
   "source": [
    "import math\n",
    "math.prod([tile.tile_id for tile in tiles if len(tile.neighbors) == 4]) # pairs are duped under flips"
   ]
  },
  {
   "cell_type": "markdown",
   "metadata": {},
   "source": [
    "## Part 2\n",
    "\n",
    "Now, you're ready to check the image for sea monsters.\n",
    "\n",
    "The borders of each tile are not part of the actual image; start by removing them.\n",
    "\n",
    "In the example above, the tiles become:\n",
    "```\n",
    ".#.#..#. ##...#.# #..#####\n",
    "###....# .#....#. .#......\n",
    "##.##.## #.#.#..# #####...\n",
    "###.#### #...#.## ###.#..#\n",
    "##.#.... #.##.### #...#.##\n",
    "...##### ###.#... .#####.#\n",
    "....#..# ...##..# .#.###..\n",
    ".####... #..#.... .#......\n",
    "\n",
    "#..#.##. .#..###. #.##....\n",
    "#.####.. #.####.# .#.###..\n",
    "###.#.#. ..#.#### ##.#..##\n",
    "#.####.. ..##..## ######.#\n",
    "##..##.# ...#...# .#.#.#..\n",
    "...#..#. .#.#.##. .###.###\n",
    ".#.#.... #.##.#.. .###.##.\n",
    "###.#... #..#.##. ######..\n",
    "\n",
    ".#.#.### .##.##.# ..#.##..\n",
    ".####.## #.#...## #.#..#.#\n",
    "..#.#..# ..#.#.#. ####.###\n",
    "#..####. ..#.#.#. ###.###.\n",
    "#####..# ####...# ##....##\n",
    "#.##..#. .#...#.. ####...#\n",
    ".#.###.. ##..##.. ####.##.\n",
    "...###.. .##...#. ..#..###\n",
    "```\n",
    "Remove the gaps to form the actual image:\n",
    "```\n",
    ".#.#..#.##...#.##..#####\n",
    "###....#.#....#..#......\n",
    "##.##.###.#.#..######...\n",
    "###.#####...#.#####.#..#\n",
    "##.#....#.##.####...#.##\n",
    "...########.#....#####.#\n",
    "....#..#...##..#.#.###..\n",
    ".####...#..#.....#......\n",
    "#..#.##..#..###.#.##....\n",
    "#.####..#.####.#.#.###..\n",
    "###.#.#...#.######.#..##\n",
    "#.####....##..########.#\n",
    "##..##.#...#...#.#.#.#..\n",
    "...#..#..#.#.##..###.###\n",
    ".#.#....#.##.#...###.##.\n",
    "###.#...#..#.##.######..\n",
    ".#.#.###.##.##.#..#.##..\n",
    ".####.###.#...###.#..#.#\n",
    "..#.#..#..#.#.#.####.###\n",
    "#..####...#.#.#.###.###.\n",
    "#####..#####...###....##\n",
    "#.##..#..#...#..####...#\n",
    ".#.###..##..##..####.##.\n",
    "...###...##...#...#..###\n",
    "```\n",
    "Now, you're ready to search for sea monsters! Because your image is monochrome, a sea monster will look like this:\n",
    "```\n",
    "                  # \n",
    "#    ##    ##    ###\n",
    " #  #  #  #  #  #   \n",
    "```\n",
    "When looking for this pattern in the image, the spaces can be anything; only the # need to match. Also, you might need to rotate or flip your image before it's oriented correctly to find sea monsters. In the above image, after flipping and rotating it to the appropriate orientation, there are two sea monsters (marked with O):\n",
    "```\n",
    ".####...#####..#...###..\n",
    "#####..#..#.#.####..#.#.\n",
    ".#.#...#.###...#.##.O#..\n",
    "#.O.##.OO#.#.OO.##.OOO##\n",
    "..#O.#O#.O##O..O.#O##.##\n",
    "...#.#..##.##...#..#..##\n",
    "#.##.#..#.#..#..##.#.#..\n",
    ".###.##.....#...###.#...\n",
    "#.####.#.#....##.#..#.#.\n",
    "##...#..#....#..#...####\n",
    "..#.##...###..#.#####..#\n",
    "....#.##.#.#####....#...\n",
    "..##.##.###.....#.##..#.\n",
    "#...#...###..####....##.\n",
    ".#.##...#.##.#.#.###...#\n",
    "#.###.#..####...##..#...\n",
    "#.###...#.##...#.##O###.\n",
    ".O##.#OO.###OO##..OOO##.\n",
    "..O#.O..O..O.#O##O##.###\n",
    "#.#..##.########..#..##.\n",
    "#.#####..#.#...##..#....\n",
    "#....##..#.#########..##\n",
    "#...#.....#..##...###.##\n",
    "#..###....##.#...##.##.#\n",
    "```\n",
    "Determine how rough the waters are in the sea monsters' habitat by counting the number of # that are not part of a sea monster. In the above example, the habitat's water roughness is 273.\n",
    "\n",
    "How many # are not part of a sea monster?\n",
    "\n"
   ]
  },
  {
   "cell_type": "code",
   "execution_count": 97,
   "metadata": {},
   "outputs": [
    {
     "data": {
      "text/plain": [
       "[1451,\n",
       " 2927,\n",
       " 2267,\n",
       " 3989,\n",
       " 1913,\n",
       " 1009,\n",
       " 1283,\n",
       " 3779,\n",
       " 1453,\n",
       " 1129,\n",
       " 2837,\n",
       " 2617,\n",
       " 3803,\n",
       " 1823,\n",
       " 1123,\n",
       " 3659,\n",
       " 3499,\n",
       " 1733,\n",
       " 2081,\n",
       " 3517,\n",
       " 3881,\n",
       " 2539,\n",
       " 2833,\n",
       " 2243,\n",
       " 2609,\n",
       " 1321,\n",
       " 2999,\n",
       " 2251,\n",
       " 1663,\n",
       " 3709,\n",
       " 2143,\n",
       " 1223,\n",
       " 1931,\n",
       " 2203,\n",
       " 3413,\n",
       " 3169,\n",
       " 2153,\n",
       " 1789,\n",
       " 3313,\n",
       " 2719]"
      ]
     },
     "execution_count": 97,
     "metadata": {},
     "output_type": "execute_result"
    }
   ],
   "source": [
    "[tile.tile_id for tile in tiles if len(tile.neighbors) == 6]"
   ]
  },
  {
   "cell_type": "code",
   "execution_count": 98,
   "metadata": {},
   "outputs": [
    {
     "data": {
      "text/plain": [
       "[3469,\n",
       " 3739,\n",
       " 3581,\n",
       " 2521,\n",
       " 2729,\n",
       " 2137,\n",
       " 2179,\n",
       " 2423,\n",
       " 2017,\n",
       " 1277,\n",
       " 1999,\n",
       " 2803,\n",
       " 1801,\n",
       " 3329,\n",
       " 3719,\n",
       " 2381,\n",
       " 2593,\n",
       " 3559,\n",
       " 2953,\n",
       " 2897,\n",
       " 2693,\n",
       " 1459,\n",
       " 1109,\n",
       " 3943,\n",
       " 3299,\n",
       " 1493,\n",
       " 2879,\n",
       " 2383,\n",
       " 3373,\n",
       " 3677,\n",
       " 3457,\n",
       " 1303,\n",
       " 2687,\n",
       " 1907,\n",
       " 3217,\n",
       " 3923,\n",
       " 2239,\n",
       " 2711,\n",
       " 3019,\n",
       " 3529,\n",
       " 1367,\n",
       " 2557,\n",
       " 3391,\n",
       " 2657,\n",
       " 1429,\n",
       " 2339,\n",
       " 2347,\n",
       " 2957,\n",
       " 2477,\n",
       " 1669,\n",
       " 2887,\n",
       " 3257,\n",
       " 2029,\n",
       " 1777,\n",
       " 3919,\n",
       " 1051,\n",
       " 1297,\n",
       " 1093,\n",
       " 2843,\n",
       " 1091,\n",
       " 3527,\n",
       " 1229,\n",
       " 2549,\n",
       " 2131,\n",
       " 1201,\n",
       " 1621,\n",
       " 1483,\n",
       " 1579,\n",
       " 1511,\n",
       " 3613,\n",
       " 1997,\n",
       " 2371,\n",
       " 2621,\n",
       " 1447,\n",
       " 2551,\n",
       " 2851,\n",
       " 2129,\n",
       " 1753,\n",
       " 1471,\n",
       " 1019,\n",
       " 3467,\n",
       " 2293,\n",
       " 2647,\n",
       " 2819,\n",
       " 2749,\n",
       " 2309,\n",
       " 1697,\n",
       " 1031,\n",
       " 1097,\n",
       " 3701,\n",
       " 3617,\n",
       " 3727,\n",
       " 1847,\n",
       " 3557,\n",
       " 1867,\n",
       " 2039,\n",
       " 3301,\n",
       " 1213,\n",
       " 2437,\n",
       " 3511]"
      ]
     },
     "execution_count": 98,
     "metadata": {},
     "output_type": "execute_result"
    }
   ],
   "source": [
    "[tile.tile_id for tile in tiles if len(tile.neighbors) == 8]"
   ]
  },
  {
   "cell_type": "code",
   "execution_count": 100,
   "metadata": {},
   "outputs": [
    {
     "data": {
      "text/plain": [
       "{('.', '.', '#', '.', '.', '.', '#', '.', '.', '.'): 3559,\n",
       " ('.', '.', '.', '#', '.', '.', '.', '#', '.', '.'): 3559,\n",
       " ('.', '#', '#', '.', '.', '#', '#', '.', '#', '.'): 3299,\n",
       " ('.', '#', '.', '#', '#', '.', '.', '#', '#', '.'): 3299,\n",
       " ('.', '.', '.', '.', '.', '.', '.', '#', '.', '.'): 2999,\n",
       " ('.', '.', '#', '.', '.', '.', '.', '.', '.', '.'): 2999,\n",
       " ('.', '#', '#', '.', '#', '#', '#', '.', '#', '.'): 2819,\n",
       " ('.', '#', '.', '#', '#', '#', '.', '#', '#', '.'): 2819}"
      ]
     },
     "execution_count": 100,
     "metadata": {},
     "output_type": "execute_result"
    }
   ],
   "source": [
    "tile_id_to_tile[3511].neighbors"
   ]
  },
  {
   "cell_type": "code",
   "execution_count": null,
   "metadata": {},
   "outputs": [],
   "source": []
  }
 ],
 "metadata": {
  "kernelspec": {
   "display_name": "Python 3",
   "language": "python",
   "name": "python3"
  },
  "language_info": {
   "codemirror_mode": {
    "name": "ipython",
    "version": 3
   },
   "file_extension": ".py",
   "mimetype": "text/x-python",
   "name": "python",
   "nbconvert_exporter": "python",
   "pygments_lexer": "ipython3",
   "version": "3.8.1"
  }
 },
 "nbformat": 4,
 "nbformat_minor": 4
}
