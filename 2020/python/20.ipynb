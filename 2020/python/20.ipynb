{
 "cells": [
  {
   "cell_type": "code",
   "execution_count": 1,
   "metadata": {},
   "outputs": [],
   "source": [
    "%load_ext autoreload\n",
    "%autoreload 2\n",
    "from typing import *"
   ]
  },
  {
   "cell_type": "code",
   "execution_count": 2,
   "metadata": {},
   "outputs": [],
   "source": [
    "from utils import load_input"
   ]
  },
  {
   "cell_type": "markdown",
   "metadata": {},
   "source": [
    "# Part 1\n",
    "\n",
    "The high-speed train leaves the forest and quickly carries you south. You can even see a desert in the distance! Since you have some spare time, you might as well see if there was anything interesting in the image the Mythical Information Bureau satellite captured.\n",
    "\n",
    "After decoding the satellite messages, you discover that the data actually contains many small images created by the satellite's camera array. The camera array consists of many cameras; rather than produce a single square image, they produce many smaller square image tiles that need to be reassembled back into a single image.\n",
    "\n",
    "Each camera in the camera array returns a single monochrome image tile with a random unique ID number. The tiles (your puzzle input) arrived in a random order.\n",
    "\n",
    "Worse yet, the camera array appears to be malfunctioning: each image tile has been rotated and flipped to a random orientation. Your first task is to reassemble the original image by orienting the tiles so they fit together.\n",
    "\n",
    "To show how the tiles should be reassembled, each tile's image data includes a border that should line up exactly with its adjacent tiles. All tiles have this border, and the border lines up exactly when the tiles are both oriented correctly. Tiles at the edge of the image also have this border, but the outermost edges won't line up with any other tiles.\n",
    "\n",
    "By rotating, flipping, and rearranging them, you can find a square arrangement that causes all adjacent borders to line up:\n",
    "\n",
    "To check that you've assembled the image correctly, multiply the IDs of the four corner tiles together. If you do this with the assembled tiles from the example above, you get 1951 * 3079 * 2971 * 1171 = 20899048083289.\n",
    "\n",
    "Assemble the tiles into an image. What do you get if you multiply together the IDs of the four corner tiles?\n",
    "\n"
   ]
  },
  {
   "cell_type": "code",
   "execution_count": 3,
   "metadata": {},
   "outputs": [],
   "source": [
    "raw_data = load_input(20, splitlines=False)"
   ]
  },
  {
   "cell_type": "code",
   "execution_count": 4,
   "metadata": {},
   "outputs": [],
   "source": [
    "raw_tiles = raw_data.strip().split(\"\\n\\n\")"
   ]
  },
  {
   "cell_type": "code",
   "execution_count": 212,
   "metadata": {},
   "outputs": [],
   "source": [
    "from __future__ import annotations\n",
    "from functools import cached_property\n",
    "from collections import namedtuple\n",
    "\n",
    "Neighbor = namedtuple(\"Neighbor\", \"tile_id flipped\")\n",
    "\n",
    "class Tile:\n",
    "    def __init__(self, tile_id: int, grid: List[List[str]]):\n",
    "        self.tile_id = tile_id\n",
    "        self.grid = grid\n",
    "        self.neighbors = dict()\n",
    "\n",
    "    @property\n",
    "    def top(self) -> Tuple[str]:\n",
    "        return self.grid[0]\n",
    "    \n",
    "    @property\n",
    "    def bottom(self) -> Tuple[str]:\n",
    "        # Note - this is backwards from its top rotation\n",
    "        return self.grid[-1]\n",
    "    \n",
    "    @property\n",
    "    def left(self) -> Tuple[str]:\n",
    "        return tuple(row[0] for row in self.grid)\n",
    "    \n",
    "    @property\n",
    "    def right(self) -> Tulple[str]:\n",
    "        return tuple(row[-1] for row in self.grid)\n",
    "\n",
    "    def rotate_clockwise(self):\n",
    "        self.grid = list(zip(*reversed(self.grid)))\n",
    "        \n",
    "    def rotate_counterclockwise(self):\n",
    "        self.grid = list(zip(*(reversed(row) for row in self.grid)))\n",
    "    \n",
    "    def flip(self):\n",
    "        self.grid = [tuple(reversed(r)) for r in self.grid]\n",
    "\n",
    "    def all_rotations(self) -> Iterator[Tile]:\n",
    "        \"\"\"\n",
    "        all possible states of this tile\n",
    "        \"\"\"\n",
    "        for _ in range(2):\n",
    "            for _ in range(4):\n",
    "                yield self\n",
    "                self.rotate_clockwise()\n",
    "            self.flip()\n",
    "    \n",
    "    @cached_property\n",
    "    def sides(self):\n",
    "        out = set()\n",
    "        for _ in range(4):\n",
    "            out.add(tuple(self.grid[0]))\n",
    "            self.rotate_clockwise()\n",
    "        return out\n",
    "    \n",
    "    @cached_property\n",
    "    def flipped_sides(self):\n",
    "        out = set()\n",
    "        for _ in range(4):\n",
    "            out.add(tuple(reversed(self.grid[0])))\n",
    "            self.rotate_clockwise()\n",
    "        return out\n",
    "        \n",
    "    @classmethod\n",
    "    def from_raw(cls, s: str) -> Tile:\n",
    "        header, tail = s.split(\"\\n\", 1)\n",
    "        tile_id = int(header[5:9])\n",
    "        grid = [list(row) for row in tail.splitlines()]\n",
    "        return cls(tile_id, grid)\n",
    "        "
   ]
  },
  {
   "cell_type": "code",
   "execution_count": 213,
   "metadata": {},
   "outputs": [],
   "source": [
    "from itertools import combinations\n",
    "\n",
    "def generate_tiles(raw_tiles) -> Tuple[List[Tile], Dict[int, Tile]]:\n",
    "    tiles = [Tile.from_raw(tile) for tile in raw_tiles]\n",
    "    tile_id_to_tile = {tile.tile_id:tile for tile in tiles}\n",
    "    \n",
    "    for left, right in combinations(tiles, 2):\n",
    "        # I think this logic needs to switch because matched sides are mirror images of eachother\n",
    "        # so a commmonality is a flip\n",
    "        common_sides = left.sides & right.flipped_sides # sides that match will be mirror images of eachother\n",
    "        for side in common_sides:\n",
    "            left.neighbors[side] = Neighbor(right.tile_id, False)\n",
    "            right.neighbors[side] = Neighbor(left.tile_id, False)\n",
    "\n",
    "        common_flipped_sides = left.sides & right.sides\n",
    "        for side in common_flipped_sides:\n",
    "            left.neighbors[side] = Neighbor(right.tile_id, True)\n",
    "            right.neighbors[side] = Neighbor(left.tile_id, True)\n",
    "            \n",
    "    \n",
    "    return tiles, tile_id_to_tile"
   ]
  },
  {
   "cell_type": "code",
   "execution_count": 214,
   "metadata": {},
   "outputs": [],
   "source": [
    "tiles, tile_id_to_tile = generate_tiles(raw_tiles)"
   ]
  },
  {
   "cell_type": "code",
   "execution_count": 215,
   "metadata": {},
   "outputs": [
    {
     "data": {
      "text/plain": [
       "140656720229539"
      ]
     },
     "execution_count": 215,
     "metadata": {},
     "output_type": "execute_result"
    }
   ],
   "source": [
    "import math\n",
    "math.prod([tile.tile_id for tile in tiles if len(tile.neighbors) == 2])"
   ]
  },
  {
   "cell_type": "markdown",
   "metadata": {},
   "source": [
    "## Part 2\n",
    "\n",
    "Now, you're ready to check the image for sea monsters.\n",
    "\n",
    "The borders of each tile are not part of the actual image; start by removing them.\n",
    "\n",
    "In the example above, the tiles become:\n",
    "```\n",
    ".#.#..#. ##...#.# #..#####\n",
    "###....# .#....#. .#......\n",
    "##.##.## #.#.#..# #####...\n",
    "###.#### #...#.## ###.#..#\n",
    "##.#.... #.##.### #...#.##\n",
    "...##### ###.#... .#####.#\n",
    "....#..# ...##..# .#.###..\n",
    ".####... #..#.... .#......\n",
    "\n",
    "#..#.##. .#..###. #.##....\n",
    "#.####.. #.####.# .#.###..\n",
    "###.#.#. ..#.#### ##.#..##\n",
    "#.####.. ..##..## ######.#\n",
    "##..##.# ...#...# .#.#.#..\n",
    "...#..#. .#.#.##. .###.###\n",
    ".#.#.... #.##.#.. .###.##.\n",
    "###.#... #..#.##. ######..\n",
    "\n",
    ".#.#.### .##.##.# ..#.##..\n",
    ".####.## #.#...## #.#..#.#\n",
    "..#.#..# ..#.#.#. ####.###\n",
    "#..####. ..#.#.#. ###.###.\n",
    "#####..# ####...# ##....##\n",
    "#.##..#. .#...#.. ####...#\n",
    ".#.###.. ##..##.. ####.##.\n",
    "...###.. .##...#. ..#..###\n",
    "```\n",
    "Remove the gaps to form the actual image:\n",
    "```\n",
    ".#.#..#.##...#.##..#####\n",
    "###....#.#....#..#......\n",
    "##.##.###.#.#..######...\n",
    "###.#####...#.#####.#..#\n",
    "##.#....#.##.####...#.##\n",
    "...########.#....#####.#\n",
    "....#..#...##..#.#.###..\n",
    ".####...#..#.....#......\n",
    "#..#.##..#..###.#.##....\n",
    "#.####..#.####.#.#.###..\n",
    "###.#.#...#.######.#..##\n",
    "#.####....##..########.#\n",
    "##..##.#...#...#.#.#.#..\n",
    "...#..#..#.#.##..###.###\n",
    ".#.#....#.##.#...###.##.\n",
    "###.#...#..#.##.######..\n",
    ".#.#.###.##.##.#..#.##..\n",
    ".####.###.#...###.#..#.#\n",
    "..#.#..#..#.#.#.####.###\n",
    "#..####...#.#.#.###.###.\n",
    "#####..#####...###....##\n",
    "#.##..#..#...#..####...#\n",
    ".#.###..##..##..####.##.\n",
    "...###...##...#...#..###\n",
    "```\n",
    "Now, you're ready to search for sea monsters! Because your image is monochrome, a sea monster will look like this:\n",
    "```\n",
    "                  # \n",
    "#    ##    ##    ###\n",
    " #  #  #  #  #  #   \n",
    "```\n",
    "When looking for this pattern in the image, the spaces can be anything; only the # need to match. Also, you might need to rotate or flip your image before it's oriented correctly to find sea monsters. In the above image, after flipping and rotating it to the appropriate orientation, there are two sea monsters (marked with O):\n",
    "```\n",
    ".####...#####..#...###..\n",
    "#####..#..#.#.####..#.#.\n",
    ".#.#...#.###...#.##.O#..\n",
    "#.O.##.OO#.#.OO.##.OOO##\n",
    "..#O.#O#.O##O..O.#O##.##\n",
    "...#.#..##.##...#..#..##\n",
    "#.##.#..#.#..#..##.#.#..\n",
    ".###.##.....#...###.#...\n",
    "#.####.#.#....##.#..#.#.\n",
    "##...#..#....#..#...####\n",
    "..#.##...###..#.#####..#\n",
    "....#.##.#.#####....#...\n",
    "..##.##.###.....#.##..#.\n",
    "#...#...###..####....##.\n",
    ".#.##...#.##.#.#.###...#\n",
    "#.###.#..####...##..#...\n",
    "#.###...#.##...#.##O###.\n",
    ".O##.#OO.###OO##..OOO##.\n",
    "..O#.O..O..O.#O##O##.###\n",
    "#.#..##.########..#..##.\n",
    "#.#####..#.#...##..#....\n",
    "#....##..#.#########..##\n",
    "#...#.....#..##...###.##\n",
    "#..###....##.#...##.##.#\n",
    "```\n",
    "Determine how rough the waters are in the sea monsters' habitat by counting the number of # that are not part of a sea monster. In the above example, the habitat's water roughness is 273.\n",
    "\n",
    "How many # are not part of a sea monster?\n",
    "\n"
   ]
  },
  {
   "cell_type": "markdown",
   "metadata": {},
   "source": [
    "Note: the below was taken from https://github.com/joelgrus/advent2020/blob/master/advent2020/day20.py after trying many many things that did not work. _shrug_"
   ]
  },
  {
   "cell_type": "code",
   "execution_count": 255,
   "metadata": {},
   "outputs": [],
   "source": [
    "Edge = str\n",
    "\n",
    "class Edges(NamedTuple):\n",
    "    top: Edge\n",
    "    bottom: Edge\n",
    "    left: Edge\n",
    "    right: Edge\n",
    "\n",
    "Pixels = List[List[str]]\n",
    "\n",
    "class Tile(NamedTuple):\n",
    "    tile_id: int\n",
    "    pixels: Pixels\n",
    "\n",
    "    def rotate(self, n: int) -> Tile:\n",
    "        \"\"\"\n",
    "        Rotate the tile clockwise n times\n",
    "        and return a new Tile object\n",
    "        \"\"\"\n",
    "        pixels = self.pixels\n",
    "        for _ in range(n):\n",
    "            rotated = []\n",
    "            for c in range(len(pixels[0])):\n",
    "                rotated.append([row[c] for row in reversed(pixels)])\n",
    "            pixels = rotated\n",
    "        return self._replace(pixels=pixels)\n",
    "\n",
    "    def flip_horizontal(self, do: bool = False) -> Tile:\n",
    "        \"\"\"\n",
    "        Flip the tile horizontally and return a new tile object\n",
    "        \"\"\"\n",
    "        pixels = [list(reversed(row)) for row in self.pixels] if do else self.pixels\n",
    "        return self._replace(pixels=pixels)\n",
    "\n",
    "    def flip_vertical(self, do: bool = False) -> Tile:\n",
    "        \"\"\"\n",
    "        Flip the tile vertically and return a new tile object\n",
    "        \"\"\"\n",
    "        pixels = list(reversed(self.pixels)) if do else self.pixels\n",
    "        return self._replace(pixels=pixels)\n",
    "\n",
    "    def all_rotations(self) -> Iterator[Tile]:\n",
    "        \"\"\"\n",
    "        Return the 8 tiles I can get from this one \n",
    "        by doing rotations and flips\n",
    "        \"\"\"\n",
    "        for flip_h in [True, False]:\n",
    "            for rot in [0, 1, 2, 3]:\n",
    "                yield (self\n",
    "                    .flip_horizontal(flip_h)\n",
    "                    .rotate(rot)\n",
    "                )\n",
    "                        \n",
    "\n",
    "    def show(self) -> None:\n",
    "        for row in self.pixels:\n",
    "            print(''.join(row))\n",
    "\n",
    "    @property\n",
    "    def top(self) -> str:\n",
    "        return ''.join(self.pixels[0])\n",
    "\n",
    "    @property\n",
    "    def bottom(self) -> str:\n",
    "        return ''.join(self.pixels[-1])\n",
    "\n",
    "    @property\n",
    "    def left(self) -> str:\n",
    "        return ''.join([row[0] for row in self.pixels])\n",
    "\n",
    "    @property\n",
    "    def right(self) -> str:\n",
    "        return ''.join([row[-1] for row in self.pixels])\n",
    "\n",
    "    def edges(\n",
    "        self,\n",
    "        reverse: bool = False\n",
    "    ) -> Edges:\n",
    "        \"\"\"\n",
    "        Returns the edges of the tile as strings.\n",
    "        If reverse == True, rotates the tile by 180 degrees first,\n",
    "        which results in all the edges being in the opposite direction\n",
    "        \"\"\"\n",
    "        if reverse:\n",
    "            return self.rotate(2).edges()\n",
    "        return Edges(\n",
    "            top=self.top, bottom=self.bottom, right=self.right, left=self.left\n",
    "        )\n",
    "\n",
    "    @staticmethod\n",
    "    def parse(raw_tile: str) -> Tile:\n",
    "        lines = raw_tile.split(\"\\n\")\n",
    "        tile_id = int(lines[0].split()[-1][:-1])\n",
    "        pixels = [list(line) for line in lines[1:]]\n",
    "        return Tile(tile_id, pixels)\n",
    "\n",
    "def make_tiles(raw: str) -> List[Tile]:\n",
    "    tiles_raw = raw.split(\"\\n\\n\")\n",
    "    return [Tile.parse(tile_raw) for tile_raw in tiles_raw]\n",
    "\n",
    "\n",
    "def find_corners(tiles: List[Tile]) -> List[Tile]:\n",
    "    \"\"\"\n",
    "    Return corners oriented so that\n",
    "    they would be the top left corner\n",
    "    \"\"\"\n",
    "    # count up all the edges / reverse edges that occur\n",
    "    # for example, if a tile had the top edge \"ABCD\",\n",
    "    # we would count \"ABCD\" once and also \"DCBA\" once\n",
    "    edge_counts = Counter(\n",
    "        edge \n",
    "        for tile in tiles \n",
    "        for reverse in [True, False]\n",
    "        for edge in tile.edges(reverse)\n",
    "    )\n",
    "\n",
    "    corners = []\n",
    "\n",
    "    for tile in tiles:\n",
    "        sides_with_no_matches = 0\n",
    "        for edge in tile.edges():\n",
    "            if edge_counts[edge] == 1 and edge_counts[edge[::-1]] == 1:\n",
    "                sides_with_no_matches += 1\n",
    "\n",
    "        if sides_with_no_matches == 2:\n",
    "            # rotate to get corner edges at top and left\n",
    "            for rot in [0, 1, 2, 3]:\n",
    "                tile = tile.rotate(rot)\n",
    "                edges = tile.edges()\n",
    "\n",
    "                if edge_counts[edges.left] == 1 and edge_counts[edges.top] == 1:\n",
    "                    corners.append(tile)\n",
    "                    break\n",
    "\n",
    "    return corners\n",
    "\n",
    "\n",
    "Assembly = List[List[Optional[Tile]]] \n",
    "\n",
    "class Constraint(NamedTuple):\n",
    "    \"\"\"\n",
    "    Says that the tile at location (i, j)\n",
    "    must have sides that match the specified\n",
    "    top / bottom / left / right\n",
    "    \"\"\"\n",
    "    i: int\n",
    "    j: int\n",
    "    top: Optional[str] = None\n",
    "    bottom: Optional[str] = None\n",
    "    left: Optional[str] = None\n",
    "    right: Optional[str] = None\n",
    "\n",
    "    def satisfied_by(self, tile: Tile) -> bool:\n",
    "        \"\"\"\n",
    "        Does the tile satisfy this constraint\n",
    "        \"\"\"\n",
    "        if self.top and tile.top != self.top:\n",
    "            return False\n",
    "        if self.bottom and tile.bottom != self.bottom:\n",
    "            return False\n",
    "        if self.left and tile.left != self.left:\n",
    "            return False\n",
    "        if self.right and tile.right != self.right:\n",
    "            return False\n",
    "        return True\n",
    "        \n",
    "    @property\n",
    "    def num_constraints(self) -> int:\n",
    "        return (\n",
    "            (self.top is not None) +\n",
    "            (self.bottom is not None) + \n",
    "            (self.left is not None) + \n",
    "            (self.right is not None)\n",
    "        )\n",
    "\n",
    "def find_constraints(assembly: Assembly) -> Iterator[Constraint]:\n",
    "    \"\"\"\n",
    "    Create constraints from a (partially filled in) Assembly.\n",
    "    No constraints for already-filled-in tiles or unconstrained locations.\n",
    "    \"\"\"\n",
    "    n = len(assembly)\n",
    "\n",
    "    for i, row in enumerate(assembly):\n",
    "        for j, tile in enumerate(row):\n",
    "            # already have a tile here\n",
    "            if assembly[i][j]:\n",
    "                continue\n",
    "            constraints: Dict[str, str] = {}\n",
    "            if i > 0 and (nbr := assembly[i-1][j]):\n",
    "                constraints[\"top\"] = nbr.bottom\n",
    "            if i < n-1 and (nbr := assembly[i+1][j]):\n",
    "                constraints[\"bottom\"] = nbr.top \n",
    "            if j > 0 and (nbr := assembly[i][j-1]):\n",
    "                constraints[\"left\"] = nbr.right\n",
    "            if j < n-1 and (nbr := assembly[i][j+1]):\n",
    "                constraints[\"right\"] = nbr.left\n",
    "\n",
    "            if constraints:\n",
    "                yield Constraint(i, j, **constraints)\n",
    "\n",
    "\n",
    "def assemble_image(tiles: List[Tile]) -> Assembly:\n",
    "    \"\"\"\n",
    "    Take the tiles and figure out how to stick them together\n",
    "    \"\"\"\n",
    "    num_tiles = len(tiles)\n",
    "    side_length = int(math.sqrt(num_tiles))\n",
    "    corners = find_corners(tiles)\n",
    "\n",
    "    # Pick a corner, any corner\n",
    "    tile = corners[0]\n",
    "\n",
    "    # Create an empty assembly\n",
    "    assembly: Assembly = [[None for _ in range(side_length)] for _ in range(side_length)]\n",
    "\n",
    "    # Put this corner tile in the top left\n",
    "    assembly[0][0] = tile\n",
    "\n",
    "    # Keep track of which tiles I've already placed\n",
    "    placed: Dict[int, Tuple[int, int]] = {tile.tile_id: (0, 0)}\n",
    "\n",
    "    # Repeat until all tiles have been placed\n",
    "    while len(placed) < num_tiles:\n",
    "        # Just care about unplaced tiles\n",
    "        tiles = [t for t in tiles if t.tile_id not in placed]\n",
    "\n",
    "        # Find the constraints based on all the tiles placed so far\n",
    "        # and order them by descending # of constraints\n",
    "        constraints = list(find_constraints(assembly))\n",
    "        constraints.sort(key=lambda c: c.num_constraints, reverse=True)\n",
    "\n",
    "        # Did I find a tile to add, so we can break out of inner loops\n",
    "        found_one = False\n",
    "\n",
    "        # Try constraints one at a time and see if we can find a tile\n",
    "        # that satisfies them\n",
    "        for constraint in constraints:\n",
    "            for tile in tiles:\n",
    "                # try all rotations for this tile, to see if any satisfies this constraint\n",
    "                for rot in tile.all_rotations():\n",
    "                    if constraint.satisfied_by(rot):\n",
    "                        # place this rotation (which is a tile) at i, j\n",
    "                        assembly[constraint.i][constraint.j] = rot \n",
    "                        placed[rot.tile_id] = (constraint.i, constraint.j)\n",
    "                        found_one = True\n",
    "                        break\n",
    "                if found_one:\n",
    "                    break\n",
    "            if found_one:\n",
    "                break\n",
    "\n",
    "    return assembly\n",
    "\n",
    "def glue(assembly: Assembly) -> Pixels:\n",
    "    \"\"\"\n",
    "    Glue together the Tiles into a single grid of pixels,\n",
    "    removing the edges of each tile\n",
    "    \"\"\"\n",
    "    N = len(assembly)\n",
    "    n = len(assembly[0][0].pixels)\n",
    "    nout = (n - 2) * N\n",
    "    glued = [['' for _ in range(nout)] for _ in range(nout)]\n",
    "    for i, row in enumerate(assembly):\n",
    "        for j, tile in enumerate(row):\n",
    "            cropped = [line[1:-1] for line in tile.pixels[1:-1]]\n",
    "            for ii, crow in enumerate(cropped):\n",
    "                for jj, pixel in enumerate(crow):\n",
    "                    glued[i * (n-2) + ii][j * (n-2) + jj] = pixel\n",
    "\n",
    "    return glued\n",
    "\n",
    "SEA_MONSTER_RAW = \"\"\"                  # \n",
    "#    ##    ##    ###\n",
    " #  #  #  #  #  #\"\"\"   \n",
    "\n",
    "# offsets for a sea monster\n",
    "SEA_MONSTER = [\n",
    "    (i, j) \n",
    "    for i, row in enumerate(SEA_MONSTER_RAW.split(\"\\n\"))\n",
    "    for j, c in enumerate(row)\n",
    "    if c == '#']\n",
    "\n",
    "def find_sea_monsters(pixels: Pixels) -> Iterator[Tuple[int, int]]:\n",
    "    \"\"\"\n",
    "    Return the indices of the top left corner of each sea monster\n",
    "    \"\"\"\n",
    "    for i, row in enumerate(pixels):\n",
    "        for j, c in enumerate(row):\n",
    "            try:\n",
    "                if all(pixels[i + di][j + dj] == '#' for di, dj in SEA_MONSTER):\n",
    "                    yield (i, j)\n",
    "            except IndexError:\n",
    "                continue\n",
    "\n",
    "def roughness(glued: Pixels) -> int:\n",
    "    \"\"\"\n",
    "    Count the #s that are not part of a sea monster\n",
    "    \"\"\"\n",
    "    # put the pixels in a Tile so we can use Tile methods\n",
    "    tile = Tile(0, glued)\n",
    "\n",
    "    # for each of the 8 rotation/flips, find the list of sea monster top lefts\n",
    "    finds = [(t, list(find_sea_monsters(t.pixels))) for t in tile.all_rotations()]\n",
    "\n",
    "    # only keep the ones that had sea monsters\n",
    "    finds = [(t, sm) for t, sm in finds if sm]\n",
    "\n",
    "    # hopefully only one of them had sea monsters\n",
    "    assert len(finds) == 1\n",
    "\n",
    "    # and that's our tile (and sea monster locations)\n",
    "    t, sms = finds[0]\n",
    "\n",
    "    # now we can computer all pixels that are showing a sea monster\n",
    "    sea_monster_pixels = {(i + di, j + dj)\n",
    "                          for i, j in sms\n",
    "                          for di, dj in SEA_MONSTER}  \n",
    "\n",
    "    # and count all the '#'s that are not sea monster pixels\n",
    "    return sum(c == '#' and (i, j) not in sea_monster_pixels\n",
    "               for i, row in enumerate(t.pixels)\n",
    "               for j, c in enumerate(row))\n",
    "\n"
   ]
  },
  {
   "cell_type": "code",
   "execution_count": 260,
   "metadata": {},
   "outputs": [],
   "source": [
    "tiles = make_tiles(raw_data.strip())"
   ]
  },
  {
   "cell_type": "code",
   "execution_count": 261,
   "metadata": {},
   "outputs": [
    {
     "name": "stdout",
     "output_type": "stream",
     "text": [
      "140656720229539\n",
      "1885\n"
     ]
    }
   ],
   "source": [
    "corners = find_corners(tiles)\n",
    "assert len(corners) == 4\n",
    "print(math.prod(tile.tile_id for tile in corners))\n",
    "images = assemble_image(tiles)\n",
    "glued = glue(images)\n",
    "print(roughness(glued))\n"
   ]
  },
  {
   "cell_type": "markdown",
   "metadata": {},
   "source": [
    "## Stuff that Just did not work"
   ]
  },
  {
   "cell_type": "code",
   "execution_count": 154,
   "metadata": {},
   "outputs": [],
   "source": [
    "from IPython.core.debugger import set_trace\n"
   ]
  },
  {
   "cell_type": "code",
   "execution_count": 183,
   "metadata": {},
   "outputs": [],
   "source": [
    "def get_aligned_column(top_most_tile: Tile) -> List[Tile]:\n",
    "    aligned_tiles = []\n",
    "    current_tile = top_most_tile\n",
    "    while True:\n",
    "        aligned_tiles.append(current_tile)\n",
    "        #set_trace()\n",
    "        if (bottom:=current_tile.bottom) in current_tile.neighbors:\n",
    "            next_id, _ = current_tile.neighbors[bottom]\n",
    "            next_flipped = False\n",
    "        elif (bottom:=tuple(reversed(current_tile.bottom))) in current_tile.neighbors:\n",
    "            next_id, _ = current_tile.neighbors[bottom]\n",
    "            next_flipped = True\n",
    "        else:\n",
    "            break\n",
    "        \n",
    "        next_tile = tile_id_to_tile[next_id]\n",
    "        \n",
    "        if next_flipped:\n",
    "            next_tile.flip()\n",
    "        \n",
    "        rotation_count = 0\n",
    "        while next_tile.top != bottom:\n",
    "            if rotation_count == 4:\n",
    "                # this is dumb but the logic for keeping track of \"should flip\" is complicated\n",
    "                next_tile.flip() \n",
    "            next_tile.rotate_clockwise()\n",
    "            rotation_count += 1\n",
    "            if rotation_count > 8:\n",
    "                raise RuntimeError(\"something is wrong\")\n",
    "            \n",
    "        current_tile = next_tile\n",
    "        \n",
    "    return aligned_tiles"
   ]
  },
  {
   "cell_type": "code",
   "execution_count": 184,
   "metadata": {},
   "outputs": [],
   "source": [
    "first_col = get_aligned_column(top_left_tile)"
   ]
  },
  {
   "cell_type": "code",
   "execution_count": 194,
   "metadata": {},
   "outputs": [],
   "source": [
    "from itertools import chain \n",
    "\n",
    "def build_row(left_most_tile: Tile) -> List[Tuple[str]]:\n",
    "    \"\"\"\n",
    "    We go through and align all tiles, then zip them, chaining together\n",
    "    \"\"\"\n",
    "    aligned_tiles = []\n",
    "    current_tile = left_most_tile\n",
    "    while True:\n",
    "        aligned_tiles.append(current_tile)\n",
    "        \n",
    "        if (right:=current_tile.right) in current_tile.neighbors:\n",
    "            next_id, _ = current_tile.neighbors[right]\n",
    "            next_flipped = False\n",
    "        elif (right:=tuple(reversed(current_tile.right))) in current_tile.neighbors:\n",
    "            next_id, _ = current_tile.neighbors[right]\n",
    "            next_flipped = True\n",
    "        else:\n",
    "            break\n",
    "\n",
    "        \n",
    "        next_tile = tile_id_to_tile[next_id]\n",
    "\n",
    "        if next_flipped:\n",
    "            next_tile.flip()\n",
    "\n",
    "        rotation_count = 0\n",
    "        while next_tile.left != right:\n",
    "            if rotation_count == 4:\n",
    "                # this is dumb but the logic for keeping track of \"should flip\" is complicated\n",
    "                next_tile.flip() \n",
    "            next_tile.rotate_clockwise()\n",
    "            rotation_count += 1\n",
    "            if rotation_count > 8:\n",
    "                raise RuntimeError(\"something is wrong\")\n",
    "        \n",
    "        current_tile = next_tile\n",
    "    assert len(aligned_tiles) == 12\n",
    "    return aligned_tiles\n",
    "#     aligned_grids = [tile.grid for tile in aligned_tiles]\n",
    "#     return [tuple(chain(*rows)) for rows in zip(*aligned_grids)]\n",
    "    "
   ]
  },
  {
   "cell_type": "code",
   "execution_count": 195,
   "metadata": {},
   "outputs": [
    {
     "ename": "AssertionError",
     "evalue": "",
     "output_type": "error",
     "traceback": [
      "\u001b[0;31m---------------------------------------------------------------------------\u001b[0m",
      "\u001b[0;31mAssertionError\u001b[0m                            Traceback (most recent call last)",
      "\u001b[0;32m<ipython-input-195-bf14fb5e073d>\u001b[0m in \u001b[0;36m<module>\u001b[0;34m\u001b[0m\n\u001b[0;32m----> 1\u001b[0;31m \u001b[0mrows\u001b[0m \u001b[0;34m=\u001b[0m \u001b[0mlist\u001b[0m\u001b[0;34m(\u001b[0m\u001b[0mmap\u001b[0m\u001b[0;34m(\u001b[0m\u001b[0mbuild_row\u001b[0m\u001b[0;34m,\u001b[0m \u001b[0mfirst_col\u001b[0m\u001b[0;34m)\u001b[0m\u001b[0;34m)\u001b[0m\u001b[0;34m\u001b[0m\u001b[0;34m\u001b[0m\u001b[0m\n\u001b[0m",
      "\u001b[0;32m<ipython-input-194-9d282ba4ea3b>\u001b[0m in \u001b[0;36mbuild_row\u001b[0;34m(left_most_tile)\u001b[0m\n\u001b[1;32m     36\u001b[0m \u001b[0;34m\u001b[0m\u001b[0m\n\u001b[1;32m     37\u001b[0m         \u001b[0mcurrent_tile\u001b[0m \u001b[0;34m=\u001b[0m \u001b[0mnext_tile\u001b[0m\u001b[0;34m\u001b[0m\u001b[0;34m\u001b[0m\u001b[0m\n\u001b[0;32m---> 38\u001b[0;31m     \u001b[0;32massert\u001b[0m \u001b[0mlen\u001b[0m\u001b[0;34m(\u001b[0m\u001b[0maligned_tiles\u001b[0m\u001b[0;34m)\u001b[0m \u001b[0;34m==\u001b[0m \u001b[0;36m12\u001b[0m\u001b[0;34m\u001b[0m\u001b[0;34m\u001b[0m\u001b[0m\n\u001b[0m\u001b[1;32m     39\u001b[0m     \u001b[0;32mreturn\u001b[0m \u001b[0maligned_tiles\u001b[0m\u001b[0;34m\u001b[0m\u001b[0;34m\u001b[0m\u001b[0m\n\u001b[1;32m     40\u001b[0m \u001b[0;31m#     aligned_grids = [tile.grid for tile in aligned_tiles]\u001b[0m\u001b[0;34m\u001b[0m\u001b[0;34m\u001b[0m\u001b[0;34m\u001b[0m\u001b[0m\n",
      "\u001b[0;31mAssertionError\u001b[0m: "
     ]
    }
   ],
   "source": [
    "rows = list(map(build_row, first_col))"
   ]
  },
  {
   "cell_type": "code",
   "execution_count": 196,
   "metadata": {},
   "outputs": [
    {
     "name": "stdout",
     "output_type": "stream",
     "text": [
      "> \u001b[0;32m<ipython-input-194-9d282ba4ea3b>\u001b[0m(38)\u001b[0;36mbuild_row\u001b[0;34m()\u001b[0m\n",
      "\u001b[0;32m     36 \u001b[0;31m\u001b[0;34m\u001b[0m\u001b[0m\n",
      "\u001b[0m\u001b[0;32m     37 \u001b[0;31m        \u001b[0mcurrent_tile\u001b[0m \u001b[0;34m=\u001b[0m \u001b[0mnext_tile\u001b[0m\u001b[0;34m\u001b[0m\u001b[0;34m\u001b[0m\u001b[0m\n",
      "\u001b[0m\u001b[0;32m---> 38 \u001b[0;31m    \u001b[0;32massert\u001b[0m \u001b[0mlen\u001b[0m\u001b[0;34m(\u001b[0m\u001b[0maligned_tiles\u001b[0m\u001b[0;34m)\u001b[0m \u001b[0;34m==\u001b[0m \u001b[0;36m12\u001b[0m\u001b[0;34m\u001b[0m\u001b[0;34m\u001b[0m\u001b[0m\n",
      "\u001b[0m\u001b[0;32m     39 \u001b[0;31m    \u001b[0;32mreturn\u001b[0m \u001b[0maligned_tiles\u001b[0m\u001b[0;34m\u001b[0m\u001b[0;34m\u001b[0m\u001b[0m\n",
      "\u001b[0m\u001b[0;32m     40 \u001b[0;31m\u001b[0;31m#     aligned_grids = [tile.grid for tile in aligned_tiles]\u001b[0m\u001b[0;34m\u001b[0m\u001b[0;34m\u001b[0m\u001b[0;34m\u001b[0m\u001b[0m\n",
      "\u001b[0m\n"
     ]
    },
    {
     "name": "stdin",
     "output_type": "stream",
     "text": [
      "ipdb>  current_tile\n"
     ]
    },
    {
     "name": "stdout",
     "output_type": "stream",
     "text": [
      "<__main__.Tile object at 0x7f3b08336e20>\n"
     ]
    },
    {
     "name": "stdin",
     "output_type": "stream",
     "text": [
      "ipdb>  right\n"
     ]
    },
    {
     "name": "stdout",
     "output_type": "stream",
     "text": [
      "('.', '.', '.', '#', '.', '.', '#', '.', '#', '.')\n"
     ]
    },
    {
     "name": "stdin",
     "output_type": "stream",
     "text": [
      "ipdb>  current_tile.neighbors\n"
     ]
    },
    {
     "name": "stdout",
     "output_type": "stream",
     "text": [
      "{('#', '.', '.', '#', '#', '.', '.', '.', '.', '.'): Neighbor(tile_id=1913, flipped=True), ('#', '.', '#', '.', '#', '#', '#', '.', '#', '#'): Neighbor(tile_id=2239, flipped=False), ('#', '.', '.', '#', '#', '#', '#', '#', '#', '.'): Neighbor(tile_id=1823, flipped=True)}\n"
     ]
    },
    {
     "name": "stdin",
     "output_type": "stream",
     "text": [
      "ipdb>  current_tile.left\n"
     ]
    },
    {
     "name": "stdout",
     "output_type": "stream",
     "text": [
      "('#', '.', '#', '.', '#', '#', '#', '.', '#', '#')\n"
     ]
    },
    {
     "name": "stdin",
     "output_type": "stream",
     "text": [
      "ipdb>  q\n"
     ]
    }
   ],
   "source": [
    "%debug"
   ]
  },
  {
   "cell_type": "code",
   "execution_count": 160,
   "metadata": {},
   "outputs": [],
   "source": [
    "first_row = build_row(top_left_tile)"
   ]
  },
  {
   "cell_type": "code",
   "execution_count": 164,
   "metadata": {},
   "outputs": [
    {
     "data": {
      "text/plain": [
       "[12, 12, 1, 12, 1, 12, 12, 1, 1, 1, 1, 1]"
      ]
     },
     "execution_count": 164,
     "metadata": {},
     "output_type": "execute_result"
    }
   ],
   "source": [
    "[len(x) for x in list(map(get_aligned_column,first_row))]"
   ]
  },
  {
   "cell_type": "code",
   "execution_count": 169,
   "metadata": {},
   "outputs": [
    {
     "data": {
      "text/plain": [
       "[('#', '.', '#', '#', '#', '.', '.', '.', '#', '.'),\n",
       " ('.', '.', '.', '.', '.', '.', '.', '.', '#', '#'),\n",
       " ('#', '.', '.', '.', '.', '.', '.', '.', '.', '#'),\n",
       " ('#', '#', '.', '#', '#', '.', '.', '.', '.', '#'),\n",
       " ('#', '.', '.', '.', '.', '.', '.', '#', '.', '.'),\n",
       " ('#', '.', '.', '#', '.', '.', '#', '.', '.', '#'),\n",
       " ('.', '.', '#', '.', '.', '#', '#', '#', '#', '#'),\n",
       " ('.', '.', '.', '.', '.', '.', '.', '.', '#', '#'),\n",
       " ('.', '.', '.', '#', '#', '.', '.', '.', '.', '#'),\n",
       " ('.', '#', '.', '#', '#', '#', '.', '.', '#', '#')]"
      ]
     },
     "execution_count": 169,
     "metadata": {},
     "output_type": "execute_result"
    }
   ],
   "source": [
    "first_row[1].grid"
   ]
  },
  {
   "cell_type": "code",
   "execution_count": 167,
   "metadata": {},
   "outputs": [
    {
     "data": {
      "text/plain": [
       "[('#', '.', '.', '.', '#', '#', '#', '#', '#', '#'),\n",
       " ('#', '#', '.', '.', '#', '.', '.', '.', '.', '#'),\n",
       " ('#', '.', '.', '#', '#', '.', '#', '#', '#', '.'),\n",
       " ('#', '.', '.', '.', '#', '#', '#', '#', '.', '#'),\n",
       " ('#', '.', '.', '#', '.', '.', '.', '.', '.', '.'),\n",
       " ('.', '#', '.', '.', '.', '.', '.', '.', '#', '#'),\n",
       " ('#', '.', '.', '#', '#', '.', '#', '.', '.', '#'),\n",
       " ('#', '.', '.', '.', '.', '.', '.', '.', '#', '.'),\n",
       " ('#', '.', '.', '.', '.', '.', '.', '#', '#', '#'),\n",
       " ('.', '#', '#', '#', '#', '.', '.', '#', '.', '.')]"
      ]
     },
     "execution_count": 167,
     "metadata": {},
     "output_type": "execute_result"
    }
   ],
   "source": [
    "first_row[2].grid"
   ]
  },
  {
   "cell_type": "code",
   "execution_count": 168,
   "metadata": {},
   "outputs": [
    {
     "data": {
      "text/plain": [
       "{('.',\n",
       "  '#',\n",
       "  '.',\n",
       "  '#',\n",
       "  '#',\n",
       "  '.',\n",
       "  '#',\n",
       "  '.',\n",
       "  '#',\n",
       "  '#'): Neighbor(tile_id=1321, flipped=True),\n",
       " ('#',\n",
       "  '#',\n",
       "  '#',\n",
       "  '#',\n",
       "  '#',\n",
       "  '.',\n",
       "  '#',\n",
       "  '#',\n",
       "  '#',\n",
       "  '.'): Neighbor(tile_id=2251, flipped=False),\n",
       " ('#',\n",
       "  '#',\n",
       "  '#',\n",
       "  '#',\n",
       "  '#',\n",
       "  '#',\n",
       "  '.',\n",
       "  '.',\n",
       "  '.',\n",
       "  '#'): Neighbor(tile_id=3701, flipped=False)}"
      ]
     },
     "execution_count": 168,
     "metadata": {},
     "output_type": "execute_result"
    }
   ],
   "source": [
    "first_row[2].neighbors"
   ]
  },
  {
   "cell_type": "code",
   "execution_count": null,
   "metadata": {},
   "outputs": [],
   "source": []
  }
 ],
 "metadata": {
  "kernelspec": {
   "display_name": "Python 3",
   "language": "python",
   "name": "python3"
  },
  "language_info": {
   "codemirror_mode": {
    "name": "ipython",
    "version": 3
   },
   "file_extension": ".py",
   "mimetype": "text/x-python",
   "name": "python",
   "nbconvert_exporter": "python",
   "pygments_lexer": "ipython3",
   "version": "3.8.1"
  }
 },
 "nbformat": 4,
 "nbformat_minor": 4
}
