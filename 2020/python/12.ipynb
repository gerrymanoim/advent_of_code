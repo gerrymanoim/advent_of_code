{
 "cells": [
  {
   "cell_type": "code",
   "execution_count": 1,
   "metadata": {},
   "outputs": [],
   "source": [
    "%load_ext autoreload\n",
    "%autoreload 2"
   ]
  },
  {
   "cell_type": "code",
   "execution_count": 2,
   "metadata": {},
   "outputs": [],
   "source": [
    "from typing import *\n",
    "from utils import load_input"
   ]
  },
  {
   "cell_type": "markdown",
   "metadata": {},
   "source": [
    "# Part 1 \n",
    "\n",
    "Unfortunately, the ship's navigation computer seems to be malfunctioning; rather than giving a route directly to safety, it produced extremely circuitous instructions. When the captain uses the PA system to ask if anyone can help, you quickly volunteer.\n",
    "\n",
    "The navigation instructions (your puzzle input) consists of a sequence of single-character actions paired with integer input values. After staring at them for a few minutes, you work out what they probably mean:\n",
    "```\n",
    "Action N means to move north by the given value.\n",
    "Action S means to move south by the given value.\n",
    "Action E means to move east by the given value.\n",
    "Action W means to move west by the given value.\n",
    "Action L means to turn left the given number of degrees.\n",
    "Action R means to turn right the given number of degrees.\n",
    "Action F means to move forward by the given value in the direction the ship is currently facing.\n",
    "```\n",
    "The ship starts by facing east. Only the L and R actions change the direction the ship is facing. (That is, if the ship is facing east and the next instruction is N10, the ship would move north 10 units, but would still move east if the following action were F.)\n",
    "\n",
    "For example:\n",
    "\n",
    "F10\n",
    "N3\n",
    "F7\n",
    "R90\n",
    "F11\n",
    "These instructions would be handled as follows:\n",
    "\n",
    "F10 would move the ship 10 units east (because the ship starts by facing east) to east 10, north 0.\n",
    "N3 would move the ship 3 units north to east 10, north 3.\n",
    "F7 would move the ship another 7 units east (because the ship is still facing east) to east 17, north 3.\n",
    "R90 would cause the ship to turn right by 90 degrees and face south; it remains at east 17, north 3.\n",
    "F11 would move the ship 11 units south to east 17, south 8.\n",
    "At the end of these instructions, the ship's Manhattan distance (sum of the absolute values of its east/west position and its north/south position) from its starting position is 17 + 8 = 25.\n",
    "\n",
    "Figure out where the navigation instructions lead. What is the Manhattan distance between that location and the ship's starting position?\n",
    "\n"
   ]
  },
  {
   "cell_type": "code",
   "execution_count": 4,
   "metadata": {},
   "outputs": [],
   "source": [
    "data = load_input(12)"
   ]
  },
  {
   "cell_type": "code",
   "execution_count": 6,
   "metadata": {},
   "outputs": [],
   "source": [
    "instructions = [(d[0], int(d[1:])) for d in data]"
   ]
  },
  {
   "cell_type": "code",
   "execution_count": 18,
   "metadata": {},
   "outputs": [],
   "source": [
    "from collections import namedtuple\n",
    "Point = namedtuple(\"Point\", \"x y\")\n",
    "current_pos = Point(0, 0)\n",
    "current_dir = \"E\""
   ]
  },
  {
   "cell_type": "code",
   "execution_count": 19,
   "metadata": {},
   "outputs": [],
   "source": [
    "left_turn = {\n",
    "    'E': 'N',\n",
    "    'N': 'W',\n",
    "    'W': 'S',\n",
    "    'S': 'E'\n",
    "}\n",
    "\n",
    "right_turn = {\n",
    "    'E': 'S',\n",
    "    'S': 'W',\n",
    "    'W': 'N',\n",
    "    'N': 'E'\n",
    "}\n",
    "\n",
    "def turn(current, turn_dir, degrees):\n",
    "    state_dict = left_turn if turn_dir == \"L\" else right_turn\n",
    "    out = current\n",
    "    for _ in range(degrees//90):\n",
    "        out = state_dict[out]\n",
    "    return out\n",
    "\n",
    "state_transition = {\n",
    "    'N': lambda p, d, u: (Point(p.x, p.y+u), d),\n",
    "    'S': lambda p, d, u: (Point(p.x, p.y-u), d),\n",
    "    'E': lambda p, d, u: (Point(p.x+u, p.y), d),\n",
    "    'W': lambda p, d, u: (Point(p.x-u, p.y), d),\n",
    "    'L': lambda p, d, u: (p, turn(d, 'L', u)),\n",
    "    'R': lambda p, d, u: (p, turn(d, 'R', u)),\n",
    "    'F': lambda p, d, u: state_transition[d](p, d, u)\n",
    "}    \n",
    "    "
   ]
  },
  {
   "cell_type": "code",
   "execution_count": 20,
   "metadata": {},
   "outputs": [],
   "source": [
    "for action, unit in instructions:\n",
    "    f = state_transition[action]\n",
    "    current_pos, current_dir = f(current_pos, current_dir, unit)"
   ]
  },
  {
   "cell_type": "code",
   "execution_count": 22,
   "metadata": {},
   "outputs": [
    {
     "data": {
      "text/plain": [
       "1441"
      ]
     },
     "execution_count": 22,
     "metadata": {},
     "output_type": "execute_result"
    }
   ],
   "source": [
    "abs(current_pos.x)+abs(current_pos.y)"
   ]
  },
  {
   "cell_type": "markdown",
   "metadata": {},
   "source": [
    "# Part 2\n",
    "\n",
    "Before you can give the destination to the captain, you realize that the actual action meanings were printed on the back of the instructions the whole time.\n",
    "\n",
    "Almost all of the actions indicate how to move a waypoint which is relative to the ship's position:\n",
    "```\n",
    "Action N means to move the waypoint north by the given value.\n",
    "Action S means to move the waypoint south by the given value.\n",
    "Action E means to move the waypoint east by the given value.\n",
    "Action W means to move the waypoint west by the given value.\n",
    "Action L means to rotate the waypoint around the ship left (counter-clockwise) the given number of degrees.\n",
    "Action R means to rotate the waypoint around the ship right (clockwise) the given number of degrees.\n",
    "Action F means to move forward to the waypoint a number of times equal to the given value.\n",
    "```\n",
    "\n",
    "The waypoint starts 10 units east and 1 unit north relative to the ship. The waypoint is relative to the ship; that is, if the ship moves, the waypoint moves with it.\n",
    "\n",
    "For example, using the same instructions as above:\n",
    "```\n",
    "F10 moves the ship to the waypoint 10 times (a total of 100 units east and 10 units north), leaving the ship at east 100, north 10. The waypoint stays 10 units east and 1 unit north of the ship.\n",
    "N3 moves the waypoint 3 units north to 10 units east and 4 units north of the ship. The ship remains at east 100, north 10.\n",
    "F7 moves the ship to the waypoint 7 times (a total of 70 units east and 28 units north), leaving the ship at east 170, north 38. The waypoint stays 10 units east and 4 units north of the ship.\n",
    "R90 rotates the waypoint around the ship clockwise 90 degrees, moving it to 4 units east and 10 units south of the ship. The ship remains at east 170, north 38.\n",
    "F11 moves the ship to the waypoint 11 times (a total of 44 units east and 110 units south), leaving the ship at east 214, south 72. The waypoint stays 4 units east and 10 units south of the ship.\n",
    "```\n",
    "After these operations, the ship's Manhattan distance from its starting position is 214 + 72 = 286.\n",
    "\n",
    "Figure out where the navigation instructions actually lead. What is the Manhattan distance between that location and the ship's starting position?\n",
    "\n"
   ]
  },
  {
   "cell_type": "code",
   "execution_count": 71,
   "metadata": {},
   "outputs": [],
   "source": [
    "class Ship:\n",
    "    \n",
    "    rotation = {\n",
    "        'L': lambda w: Point(-w.y, w.x),\n",
    "        'R': lambda w: Point(w.y, -w.x)\n",
    "    }\n",
    "    \n",
    "    state_transition = {\n",
    "        'N': lambda p, w, v: (p, Point(w.x, w.y+v)),\n",
    "        'S': lambda p, w, v: (p, Point(w.x, w.y-v)),\n",
    "        'E': lambda p, w, v: (p, Point(w.x+v, w.y)),\n",
    "        'W': lambda p, w, v: (p, Point(w.x-v, w.y)),\n",
    "        'L': lambda p, w, v: (p, Ship.rotate_waypoint(w, 'L', v)),\n",
    "        'R': lambda p, w, v: (p, Ship.rotate_waypoint(w, 'R', v)),\n",
    "        'F': lambda p, w, v: (Point(p.x+(v*w.x),p.y+(v*w.y)) , w)\n",
    "    }    \n",
    "    \n",
    "    def __init__(self):\n",
    "        self.pos = Point(0, 0)\n",
    "        self.w_pos = Point(10, 1)\n",
    "        \n",
    "        \n",
    "    def move(self, action, value):\n",
    "        f = self.state_transition[action]\n",
    "        self.pos, self.w_pos = f(self.pos, self.w_pos, value)\n",
    "    \n",
    "    @classmethod\n",
    "    def rotate_waypoint(cls, waypoint_loc, turn_dir, value):\n",
    "        #new_w_loc = waypoint_loc\n",
    "        for _ in range(value//90):\n",
    "            waypoint_loc = cls.rotation[turn_dir](waypoint_loc)\n",
    "\n",
    "        return waypoint_loc\n",
    "        \n",
    "    "
   ]
  },
  {
   "cell_type": "code",
   "execution_count": 64,
   "metadata": {},
   "outputs": [],
   "source": [
    "ship = Ship()"
   ]
  },
  {
   "cell_type": "code",
   "execution_count": 65,
   "metadata": {},
   "outputs": [],
   "source": [
    "for action, value in instructions:\n",
    "    ship.move(action, value)"
   ]
  },
  {
   "cell_type": "code",
   "execution_count": 66,
   "metadata": {},
   "outputs": [
    {
     "data": {
      "text/plain": [
       "61616"
      ]
     },
     "execution_count": 66,
     "metadata": {},
     "output_type": "execute_result"
    }
   ],
   "source": [
    "abs(ship.pos.x)+abs(ship.pos.y)"
   ]
  },
  {
   "cell_type": "code",
   "execution_count": null,
   "metadata": {},
   "outputs": [],
   "source": []
  }
 ],
 "metadata": {
  "kernelspec": {
   "display_name": "Python 3",
   "language": "python",
   "name": "python3"
  },
  "language_info": {
   "codemirror_mode": {
    "name": "ipython",
    "version": 3
   },
   "file_extension": ".py",
   "mimetype": "text/x-python",
   "name": "python",
   "nbconvert_exporter": "python",
   "pygments_lexer": "ipython3",
   "version": "3.8.1"
  }
 },
 "nbformat": 4,
 "nbformat_minor": 4
}
