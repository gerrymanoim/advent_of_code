{
 "cells": [
  {
   "cell_type": "code",
   "execution_count": 1,
   "metadata": {},
   "outputs": [],
   "source": [
    "%load_ext autoreload\n",
    "%autoreload 2\n",
    "from typing import *"
   ]
  },
  {
   "cell_type": "code",
   "execution_count": 2,
   "metadata": {},
   "outputs": [],
   "source": [
    "from utils import load_input"
   ]
  },
  {
   "cell_type": "markdown",
   "metadata": {},
   "source": [
    "# Part 1\n",
    "\n",
    "As you look out the window and notice a heavily-forested continent slowly appear over the horizon, you are interrupted by the child sitting next to you. They're curious if you could help them with their math homework.\n",
    "\n",
    "Unfortunately, it seems like this \"math\" follows different rules than you remember.\n",
    "\n",
    "The homework (your puzzle input) consists of a series of expressions that consist of addition (+), multiplication (*), and parentheses ((...)). Just like normal math, parentheses indicate that the expression inside must be evaluated before it can be used by the surrounding expression. Addition still finds the sum of the numbers on both sides of the operator, and multiplication still finds the product.\n",
    "\n",
    "However, the rules of operator precedence have changed. Rather than evaluating multiplication before addition, the operators have the same precedence, and are evaluated left-to-right regardless of the order in which they appear.\n",
    "\n",
    "For example, the steps to evaluate the expression 1 + 2 * 3 + 4 * 5 + 6 are as follows:\n",
    "```\n",
    "1 + 2 * 3 + 4 * 5 + 6\n",
    "  3   * 3 + 4 * 5 + 6\n",
    "      9   + 4 * 5 + 6\n",
    "         13   * 5 + 6\n",
    "             65   + 6\n",
    "                 71\n",
    "```\n",
    "Parentheses can override this order; for example, here is what happens if parentheses are added to form 1 + (2 * 3) + (4 * (5 + 6)):\n",
    "```\n",
    "1 + (2 * 3) + (4 * (5 + 6))\n",
    "1 +    6    + (4 * (5 + 6))\n",
    "     7      + (4 * (5 + 6))\n",
    "     7      + (4 *   11   )\n",
    "     7      +     44\n",
    "            51\n",
    "```\n",
    "Here are a few more examples:\n",
    "```\n",
    "2 * 3 + (4 * 5) becomes 26.\n",
    "5 + (8 * 3 + 9 + 3 * 4 * 3) becomes 437.\n",
    "5 * 9 * (7 * 3 * 3 + 9 * 3 + (8 + 6 * 4)) becomes 12240.\n",
    "((2 + 4 * 9) * (6 + 9 * 8 + 6) + 6) + 2 + 4 * 2 becomes 13632.\n",
    "```\n",
    "Before you can help with the homework, you need to understand it yourself. Evaluate the expression on each line of the homework; what is the sum of the resulting values?\n",
    "\n"
   ]
  },
  {
   "cell_type": "code",
   "execution_count": 3,
   "metadata": {},
   "outputs": [],
   "source": [
    "import operator\n",
    "\n",
    "ops = {\n",
    "    '+': operator.add,\n",
    "    '*': operator.mul,\n",
    "}"
   ]
  },
  {
   "cell_type": "code",
   "execution_count": 4,
   "metadata": {},
   "outputs": [],
   "source": [
    "def parse_expr(expr: str, pntr: int):\n",
    "    left, op = None, None\n",
    "    while pntr < len(expr):\n",
    "        v = expr[pntr]\n",
    "        if v == \" \":\n",
    "            pntr += 1\n",
    "        elif v in ops:\n",
    "            op = ops[v]\n",
    "            pntr += 1\n",
    "        # ignore parens for a sec\n",
    "        elif v == \")\":\n",
    "            return left, pntr+1\n",
    "        elif v == \"(\":\n",
    "            res, pntr = parse_expr(expr, pntr+1)\n",
    "            if left is not None:\n",
    "                left = op(left, res)\n",
    "            else:\n",
    "                left = res\n",
    "        else:\n",
    "            pntr += 1\n",
    "            if left is not None:\n",
    "                left = op(left, int(v))\n",
    "            else:\n",
    "                left = int(v)\n",
    "    return left, pntr"
   ]
  },
  {
   "cell_type": "code",
   "execution_count": 5,
   "metadata": {},
   "outputs": [
    {
     "data": {
      "text/plain": [
       "(71, 21)"
      ]
     },
     "execution_count": 5,
     "metadata": {},
     "output_type": "execute_result"
    }
   ],
   "source": [
    "parse_expr(\"1 + 2 * 3 + 4 * 5 + 6\", 0)"
   ]
  },
  {
   "cell_type": "code",
   "execution_count": 6,
   "metadata": {},
   "outputs": [
    {
     "data": {
      "text/plain": [
       "(51, 27)"
      ]
     },
     "execution_count": 6,
     "metadata": {},
     "output_type": "execute_result"
    }
   ],
   "source": [
    "parse_expr(\"1 + (2 * 3) + (4 * (5 + 6))\", 0)"
   ]
  },
  {
   "cell_type": "code",
   "execution_count": 7,
   "metadata": {},
   "outputs": [
    {
     "name": "stdout",
     "output_type": "stream",
     "text": [
      "(26, 15)\n",
      "(437, 27)\n",
      "(12240, 41)\n",
      "(13632, 47)\n"
     ]
    }
   ],
   "source": [
    "tests = \"\"\"2 * 3 + (4 * 5)\n",
    "5 + (8 * 3 + 9 + 3 * 4 * 3)\n",
    "5 * 9 * (7 * 3 * 3 + 9 * 3 + (8 + 6 * 4))\n",
    "((2 + 4 * 9) * (6 + 9 * 8 + 6) + 6) + 2 + 4 * 2\"\"\".splitlines()\n",
    "for test in tests:\n",
    "    print(parse_expr(test, 0))"
   ]
  },
  {
   "cell_type": "code",
   "execution_count": 8,
   "metadata": {},
   "outputs": [],
   "source": [
    "data = load_input(18)"
   ]
  },
  {
   "cell_type": "code",
   "execution_count": 9,
   "metadata": {},
   "outputs": [
    {
     "data": {
      "text/plain": [
       "75592527415659"
      ]
     },
     "execution_count": 9,
     "metadata": {},
     "output_type": "execute_result"
    }
   ],
   "source": [
    "sum(v for v, _ in (parse_expr(d, 0) for d in data))"
   ]
  },
  {
   "cell_type": "markdown",
   "metadata": {},
   "source": [
    "# Part 2\n",
    "\n",
    "You manage to answer the child's questions and they finish part 1 of their homework, but get stuck when they reach the next section: advanced math.\n",
    "\n",
    "Now, addition and multiplication have different precedence levels, but they're not the ones you're familiar with. Instead, addition is evaluated before multiplication.\n",
    "\n",
    "For example, the steps to evaluate the expression 1 + 2 * 3 + 4 * 5 + 6 are now as follows:\n",
    "```\n",
    "1 + 2 * 3 + 4 * 5 + 6\n",
    "  3   * 3 + 4 * 5 + 6\n",
    "  3   *   7   * 5 + 6\n",
    "  3   *   7   *  11\n",
    "     21       *  11\n",
    "         231\n",
    "```\n",
    "Here are the other examples from above:\n",
    "\n",
    "```\n",
    "1 + (2 * 3) + (4 * (5 + 6)) still becomes 51.\n",
    "2 * 3 + (4 * 5) becomes 46.\n",
    "5 + (8 * 3 + 9 + 3 * 4 * 3) becomes 1445.\n",
    "5 * 9 * (7 * 3 * 3 + 9 * 3 + (8 + 6 * 4)) becomes 669060.\n",
    "((2 + 4 * 9) * (6 + 9 * 8 + 6) + 6) + 2 + 4 * 2 becomes 23340.\n",
    "```\n",
    "What do you get if you add up the results of evaluating the homework problems using these new rules?\n",
    "\n"
   ]
  },
  {
   "cell_type": "code",
   "execution_count": 21,
   "metadata": {},
   "outputs": [],
   "source": [
    "def place_left_paren(expr, idx):\n",
    "    expr = list(expr)\n",
    "    non_ints = \"()+*\"\n",
    "    n_rparens = 0\n",
    "    n_lparens = 0\n",
    "    while idx > 0:\n",
    "        v = expr[idx]\n",
    "        if v not in non_ints and (n_lparens == n_rparens):\n",
    "            expr.insert(idx, \"(\")\n",
    "            return expr\n",
    "        elif v == \")\":\n",
    "            n_rparens += 1\n",
    "            idx -= 1\n",
    "        elif v == \"(\":\n",
    "            n_lparens +=1\n",
    "            if n_lparens == n_rparens:\n",
    "                expr.insert(idx, \"(\")\n",
    "                return expr\n",
    "            else:\n",
    "                idx -= 1\n",
    "        else:\n",
    "            idx -= 1\n",
    "    expr.insert(0, \"(\")\n",
    "    return expr\n",
    "            \n",
    "def place_right_paren(expr, idx):\n",
    "    expr = list(expr)\n",
    "    non_ints = \"()+*\"\n",
    "    n_rparens = 0\n",
    "    n_lparens = 0\n",
    "    while idx < len(expr):\n",
    "        v = expr[idx]\n",
    "        if v not in non_ints and (n_lparens == n_rparens):\n",
    "            expr.insert(idx+1, \")\")\n",
    "            return expr\n",
    "        elif v == \"(\":\n",
    "            n_lparens += 1\n",
    "            idx += 1\n",
    "        elif v == \")\":\n",
    "            n_rparens +=1\n",
    "            if n_lparens == n_rparens:\n",
    "                expr.insert(idx+1, \")\")\n",
    "                return expr\n",
    "            else:\n",
    "                idx += 1\n",
    "        else:\n",
    "            idx += 1\n",
    "    expr.insert(len(expr), \")\")\n",
    "    return expr\n",
    "\n",
    "def preprocess(expr: str) -> str:\n",
    "    start = 0\n",
    "    offset = 0\n",
    "    non_ints = \"()+*\"\n",
    "    while (idx:=expr.find(\"+\", start)) != -1:\n",
    "        #print(f\"{expr=}\")\n",
    "        #print(f\"{idx=}\")\n",
    "        l_idx = idx - 1\n",
    "        expr = \"\".join(place_left_paren(expr, l_idx))\n",
    "        r_idx = idx + 2 # we inserted a paren\n",
    "        expr = \"\".join(place_right_paren(expr, r_idx))\n",
    "        offset += 2\n",
    "        start = idx + 2\n",
    "        #print(f\"{start=}\")\n",
    "        #print(f\"{expr=}\")\n",
    "    return expr            "
   ]
  },
  {
   "cell_type": "code",
   "execution_count": 22,
   "metadata": {},
   "outputs": [
    {
     "data": {
      "text/plain": [
       "'(((((2+4)*9)*(((6+9)*(8+6))+6))+2)+4)*2'"
      ]
     },
     "execution_count": 22,
     "metadata": {},
     "output_type": "execute_result"
    }
   ],
   "source": [
    "preprocess(\"((2 + 4 * 9) * (6 + 9 * 8 + 6) + 6) + 2 + 4 * 2\".replace(\" \", \"\"))"
   ]
  },
  {
   "cell_type": "code",
   "execution_count": 23,
   "metadata": {},
   "outputs": [
    {
     "name": "stdout",
     "output_type": "stream",
     "text": [
      "(46, 11)\n",
      "(1445, 21)\n",
      "(669060, 29)\n",
      "(23340, 39)\n"
     ]
    }
   ],
   "source": [
    "for test in tests:\n",
    "    print(parse_expr(preprocess(test.replace(\" \", \"\")), 0))"
   ]
  },
  {
   "cell_type": "code",
   "execution_count": 26,
   "metadata": {},
   "outputs": [
    {
     "data": {
      "text/plain": [
       "360029542265462"
      ]
     },
     "execution_count": 26,
     "metadata": {},
     "output_type": "execute_result"
    }
   ],
   "source": [
    "sum(v for v, _ in (parse_expr(preprocess(d.replace(\" \", \"\")), 0) for d in data))"
   ]
  }
 ],
 "metadata": {
  "kernelspec": {
   "display_name": "Python 3",
   "language": "python",
   "name": "python3"
  },
  "language_info": {
   "codemirror_mode": {
    "name": "ipython",
    "version": 3
   },
   "file_extension": ".py",
   "mimetype": "text/x-python",
   "name": "python",
   "nbconvert_exporter": "python",
   "pygments_lexer": "ipython3",
   "version": "3.8.1"
  }
 },
 "nbformat": 4,
 "nbformat_minor": 4
}
