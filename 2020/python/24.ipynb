{
 "cells": [
  {
   "cell_type": "code",
   "execution_count": 2,
   "metadata": {},
   "outputs": [],
   "source": [
    "%load_ext autoreload\n",
    "%autoreload 2\n",
    "from typing import *\n",
    "from __future__ import annotations"
   ]
  },
  {
   "cell_type": "code",
   "execution_count": 3,
   "metadata": {},
   "outputs": [],
   "source": [
    "from utils import load_input"
   ]
  },
  {
   "cell_type": "markdown",
   "metadata": {},
   "source": [
    "# Part 1\n",
    "\n",
    "Your raft makes it to the tropical island; it turns out that the small crab was an excellent navigator. You make your way to the resort.\n",
    "\n",
    "As you enter the lobby, you discover a small problem: the floor is being renovated. You can't even reach the check-in desk until they've finished installing the new tile floor.\n",
    "\n",
    "The tiles are all hexagonal; they need to be arranged in a hex grid with a very specific color pattern. Not in the mood to wait, you offer to help figure out the pattern.\n",
    "\n",
    "The tiles are all white on one side and black on the other. They start with the white side facing up. The lobby is large enough to fit whatever pattern might need to appear there.\n",
    "\n",
    "A member of the renovation crew gives you a list of the tiles that need to be flipped over (your puzzle input). Each line in the list identifies a single tile that needs to be flipped by giving a series of steps starting from a reference tile in the very center of the room. (Every line starts from the same reference tile.)\n",
    "\n",
    "Because the tiles are hexagonal, every tile has six neighbors: east, southeast, southwest, west, northwest, and northeast. These directions are given in your list, respectively, as e, se, sw, w, nw, and ne. A tile is identified by a series of these directions with no delimiters; for example, esenee identifies the tile you land on if you start at the reference tile and then move one tile east, one tile southeast, one tile northeast, and one tile east.\n",
    "\n",
    "Each time a tile is identified, it flips from white to black or from black to white. Tiles might be flipped more than once. For example, a line like esew flips a tile immediately adjacent to the reference tile, and a line like nwwswee flips the reference tile itself.\n",
    "\n",
    "Here is a larger example:\n",
    "```\n",
    "sesenwnenenewseeswwswswwnenewsewsw\n",
    "neeenesenwnwwswnenewnwwsewnenwseswesw\n",
    "seswneswswsenwwnwse\n",
    "nwnwneseeswswnenewneswwnewseswneseene\n",
    "swweswneswnenwsewnwneneseenw\n",
    "eesenwseswswnenwswnwnwsewwnwsene\n",
    "sewnenenenesenwsewnenwwwse\n",
    "wenwwweseeeweswwwnwwe\n",
    "wsweesenenewnwwnwsenewsenwwsesesenwne\n",
    "neeswseenwwswnwswswnw\n",
    "nenwswwsewswnenenewsenwsenwnesesenew\n",
    "enewnwewneswsewnwswenweswnenwsenwsw\n",
    "sweneswneswneneenwnewenewwneswswnese\n",
    "swwesenesewenwneswnwwneseswwne\n",
    "enesenwswwswneneswsenwnewswseenwsese\n",
    "wnwnesenesenenwwnenwsewesewsesesew\n",
    "nenewswnwewswnenesenwnesewesw\n",
    "eneswnwswnwsenenwnwnwwseeswneewsenese\n",
    "neswnwewnwnwseenwseesewsenwsweewe\n",
    "wseweeenwnesenwwwswnew\n",
    "```\n",
    "In the above example, 10 tiles are flipped once (to black), and 5 more are flipped twice (to black, then back to white). After all of these instructions have been followed, a total of 10 tiles are black.\n",
    "\n",
    "Go through the renovation crew's list and determine which tiles they need to flip. After all of the instructions have been followed, how many tiles are left with the black side up?\n",
    "\n",
    "\n"
   ]
  },
  {
   "cell_type": "code",
   "execution_count": 4,
   "metadata": {},
   "outputs": [],
   "source": [
    "raw = load_input(24)"
   ]
  },
  {
   "cell_type": "markdown",
   "metadata": {},
   "source": [
    "I think using decimals and having hexes identified by their center points works, but there must be an easier way"
   ]
  },
  {
   "cell_type": "code",
   "execution_count": 71,
   "metadata": {},
   "outputs": [],
   "source": [
    "from collections import defaultdict, namedtuple\n",
    "\n",
    "from decimal import *\n",
    "getcontext().prec = 6\n"
   ]
  },
  {
   "cell_type": "code",
   "execution_count": 117,
   "metadata": {},
   "outputs": [],
   "source": [
    "fractional_move = Decimal('0.8660245038')"
   ]
  },
  {
   "cell_type": "code",
   "execution_count": 118,
   "metadata": {},
   "outputs": [],
   "source": [
    "move = {\n",
    "    'e': lambda p: Point(p.x+1, p.y),\n",
    "    'se': lambda p: Point(p.x+Decimal('0.5'), p.y-fractional_move),\n",
    "    'sw': lambda p: Point(p.x-Decimal('0.5'), p.y-fractional_move),\n",
    "    'w': lambda p: Point(p.x-1, p.y),\n",
    "    'nw': lambda p: Point(p.x-Decimal('0.5'), p.y+fractional_move),\n",
    "    'ne': lambda p: Point(p.x+Decimal('0.5'), p.y+fractional_move),\n",
    "}\n",
    "\n",
    "Point = namedtuple(\"Point\", \"x y\") # hexagons are identifies by their central points"
   ]
  },
  {
   "cell_type": "code",
   "execution_count": 119,
   "metadata": {},
   "outputs": [],
   "source": [
    "def locate_tile(instructions: str) -> Point:\n",
    "    loc = Point(Decimal(0), Decimal(0))\n",
    "    it = iter(instructions)\n",
    "    while True:\n",
    "        try:\n",
    "            direction = next(it)\n",
    "            if direction in (\"n\", \"s\"):\n",
    "                direction += next(it)\n",
    "            loc = move[direction](loc)\n",
    "        except StopIteration:\n",
    "            break\n",
    "    return loc"
   ]
  },
  {
   "cell_type": "code",
   "execution_count": 120,
   "metadata": {},
   "outputs": [],
   "source": [
    "tiles = defaultdict(lambda: 1) # use 1 for white, -1 for black\n",
    "for instructions in raw:\n",
    "    tile = locate_tile(instructions)\n",
    "    tiles[tile] *= -1"
   ]
  },
  {
   "cell_type": "code",
   "execution_count": 121,
   "metadata": {},
   "outputs": [
    {
     "data": {
      "text/plain": [
       "420"
      ]
     },
     "execution_count": 121,
     "metadata": {},
     "output_type": "execute_result"
    }
   ],
   "source": [
    "len(list(filter(lambda x: x == -1, tiles.values())))"
   ]
  },
  {
   "cell_type": "markdown",
   "metadata": {},
   "source": [
    "# Part 2\n",
    "\n",
    "The tile floor in the lobby is meant to be a living art exhibit. Every day, the tiles are all flipped according to the following rules:\n",
    "\n",
    "Any black tile with zero or more than 2 black tiles immediately adjacent to it is flipped to white.\n",
    "Any white tile with exactly 2 black tiles immediately adjacent to it is flipped to black.\n",
    "Here, tiles immediately adjacent means the six tiles directly touching the tile in question.\n",
    "\n",
    "The rules are applied simultaneously to every tile; put another way, it is first determined which tiles need to be flipped, then they are all flipped at the same time.\n",
    "\n",
    "In the above example, the number of black tiles that are facing up after the given number of days has passed is as follows:\n",
    "```\n",
    "Day 1: 15\n",
    "Day 2: 12\n",
    "Day 3: 25\n",
    "Day 4: 14\n",
    "Day 5: 23\n",
    "Day 6: 28\n",
    "Day 7: 41\n",
    "Day 8: 37\n",
    "Day 9: 49\n",
    "Day 10: 37\n",
    "\n",
    "Day 20: 132\n",
    "Day 30: 259\n",
    "Day 40: 406\n",
    "Day 50: 566\n",
    "Day 60: 788\n",
    "Day 70: 1106\n",
    "Day 80: 1373\n",
    "Day 90: 1844\n",
    "Day 100: 2208\n",
    "```\n",
    "After executing this process a total of 100 times, there would be 2208 black tiles facing up.\n",
    "\n",
    "How many tiles will be black after 100 days?\n",
    "\n"
   ]
  },
  {
   "cell_type": "code",
   "execution_count": 135,
   "metadata": {},
   "outputs": [],
   "source": [
    "from __future__ import annotations\n",
    "from collections import Counter\n",
    "\n",
    "def get_neighbors(p: Point):\n",
    "    return set(f(p) for f in move.values())\n",
    "\n",
    "\n",
    "class TileGame:\n",
    "    \n",
    "    def __init__(self, black_tiles: List[Point]):\n",
    "        self.black_tiles = set(black_tiles)\n",
    "        \n",
    "    @classmethod\n",
    "    def from_dict(cls, state: Dict[Point]) -> TileGame:\n",
    "        return cls([point for point, color in state.items() if color == -1])\n",
    "    \n",
    "    def step(self):\n",
    "        \"\"\"\n",
    "        Any black tile with zero or more than 2 black tiles immediately adjacent to it is flipped to white.\n",
    "        Any white tile with exactly 2 black tiles immediately adjacent to it is flipped to black.\n",
    "        \"\"\"\n",
    "        new_state = set()\n",
    "        white_tiles = Counter()\n",
    "        for tile in self.black_tiles:\n",
    "            neighbors = get_neighbors(tile)\n",
    "            black_neighbors = self.black_tiles & neighbors\n",
    "            white_neighbors = neighbors - self.black_tiles\n",
    "            if len(black_neighbors) in (1,2):\n",
    "                new_state.add(tile)\n",
    "            \n",
    "            white_tiles.update(white_neighbors)\n",
    "        #print(f\"{new_state=}, {len(new_state)}\")\n",
    "        #print(f\"{white_tiles}\")\n",
    "        new_state.update(k for k, v in white_tiles.items() if v == 2)\n",
    "        \n",
    "        self.black_tiles = new_state\n",
    "            \n",
    "    \n",
    "    def play(self, n_turns):\n",
    "        for turn in range(n_turns):\n",
    "            self.step()\n",
    "            print(f\"After {turn=}  {self.score=}\")\n",
    "        print(self.score)\n",
    "        \n",
    "    @property\n",
    "    def score(self):\n",
    "        return len(self.black_tiles)"
   ]
  },
  {
   "cell_type": "code",
   "execution_count": 136,
   "metadata": {},
   "outputs": [],
   "source": [
    "game = TileGame.from_dict(tiles)"
   ]
  },
  {
   "cell_type": "code",
   "execution_count": 137,
   "metadata": {},
   "outputs": [
    {
     "data": {
      "text/plain": [
       "420"
      ]
     },
     "execution_count": 137,
     "metadata": {},
     "output_type": "execute_result"
    }
   ],
   "source": [
    "game.score"
   ]
  },
  {
   "cell_type": "code",
   "execution_count": 138,
   "metadata": {},
   "outputs": [
    {
     "name": "stdout",
     "output_type": "stream",
     "text": [
      "After turn=0  self.score=416\n",
      "After turn=1  self.score=418\n",
      "After turn=2  self.score=448\n",
      "After turn=3  self.score=446\n",
      "After turn=4  self.score=509\n",
      "After turn=5  self.score=513\n",
      "After turn=6  self.score=479\n",
      "After turn=7  self.score=499\n",
      "After turn=8  self.score=546\n",
      "After turn=9  self.score=563\n",
      "After turn=10  self.score=604\n",
      "After turn=11  self.score=640\n",
      "After turn=12  self.score=647\n",
      "After turn=13  self.score=628\n",
      "After turn=14  self.score=715\n",
      "After turn=15  self.score=756\n",
      "After turn=16  self.score=741\n",
      "After turn=17  self.score=707\n",
      "After turn=18  self.score=846\n",
      "After turn=19  self.score=835\n",
      "After turn=20  self.score=853\n",
      "After turn=21  self.score=895\n",
      "After turn=22  self.score=884\n",
      "After turn=23  self.score=910\n",
      "After turn=24  self.score=959\n",
      "After turn=25  self.score=1015\n",
      "After turn=26  self.score=967\n",
      "After turn=27  self.score=1001\n",
      "After turn=28  self.score=1043\n",
      "After turn=29  self.score=1067\n",
      "After turn=30  self.score=1115\n",
      "After turn=31  self.score=1107\n",
      "After turn=32  self.score=1095\n",
      "After turn=33  self.score=1224\n",
      "After turn=34  self.score=1138\n",
      "After turn=35  self.score=1282\n",
      "After turn=36  self.score=1299\n",
      "After turn=37  self.score=1266\n",
      "After turn=38  self.score=1290\n",
      "After turn=39  self.score=1367\n",
      "After turn=40  self.score=1338\n",
      "After turn=41  self.score=1451\n",
      "After turn=42  self.score=1438\n",
      "After turn=43  self.score=1513\n",
      "After turn=44  self.score=1557\n",
      "After turn=45  self.score=1573\n",
      "After turn=46  self.score=1573\n",
      "After turn=47  self.score=1565\n",
      "After turn=48  self.score=1714\n",
      "After turn=49  self.score=1640\n",
      "After turn=50  self.score=1806\n",
      "After turn=51  self.score=1712\n",
      "After turn=52  self.score=1864\n",
      "After turn=53  self.score=1739\n",
      "After turn=54  self.score=1954\n",
      "After turn=55  self.score=2082\n",
      "After turn=56  self.score=1935\n",
      "After turn=57  self.score=2016\n",
      "After turn=58  self.score=2043\n",
      "After turn=59  self.score=2183\n",
      "After turn=60  self.score=2125\n",
      "After turn=61  self.score=2185\n",
      "After turn=62  self.score=2231\n",
      "After turn=63  self.score=2368\n",
      "After turn=64  self.score=2236\n",
      "After turn=65  self.score=2528\n",
      "After turn=66  self.score=2346\n",
      "After turn=67  self.score=2482\n",
      "After turn=68  self.score=2482\n",
      "After turn=69  self.score=2540\n",
      "After turn=70  self.score=2674\n",
      "After turn=71  self.score=2645\n",
      "After turn=72  self.score=2661\n",
      "After turn=73  self.score=2721\n",
      "After turn=74  self.score=2778\n",
      "After turn=75  self.score=2791\n",
      "After turn=76  self.score=2904\n",
      "After turn=77  self.score=2811\n",
      "After turn=78  self.score=3021\n",
      "After turn=79  self.score=3013\n",
      "After turn=80  self.score=3200\n",
      "After turn=81  self.score=3066\n",
      "After turn=82  self.score=3178\n",
      "After turn=83  self.score=3269\n",
      "After turn=84  self.score=3301\n",
      "After turn=85  self.score=3328\n",
      "After turn=86  self.score=3398\n",
      "After turn=87  self.score=3419\n",
      "After turn=88  self.score=3399\n",
      "After turn=89  self.score=3634\n",
      "After turn=90  self.score=3532\n",
      "After turn=91  self.score=3760\n",
      "After turn=92  self.score=3670\n",
      "After turn=93  self.score=3795\n",
      "After turn=94  self.score=3898\n",
      "After turn=95  self.score=3971\n",
      "After turn=96  self.score=3784\n",
      "After turn=97  self.score=4080\n",
      "After turn=98  self.score=4134\n",
      "After turn=99  self.score=4206\n",
      "4206\n"
     ]
    }
   ],
   "source": [
    "game.play(100)"
   ]
  }
 ],
 "metadata": {
  "kernelspec": {
   "display_name": "Python 3",
   "language": "python",
   "name": "python3"
  },
  "language_info": {
   "codemirror_mode": {
    "name": "ipython",
    "version": 3
   },
   "file_extension": ".py",
   "mimetype": "text/x-python",
   "name": "python",
   "nbconvert_exporter": "python",
   "pygments_lexer": "ipython3",
   "version": "3.8.1"
  }
 },
 "nbformat": 4,
 "nbformat_minor": 4
}
